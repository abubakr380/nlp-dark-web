{
 "cells": [
  {
   "cell_type": "code",
   "execution_count": 1,
   "metadata": {},
   "outputs": [],
   "source": [
    "import pandas as pd\n",
    "import numpy as np\n",
    "import random\n",
    "import string\n",
    "import pickle\n",
    "import os.path\n",
    "from utils import *"
   ]
  },
  {
   "cell_type": "code",
   "execution_count": 2,
   "metadata": {},
   "outputs": [],
   "source": [
    "if not os.path.isfile('data/trigrams.pickle'): # run once\n",
    "    train = open('data/train.txt', 'r') # conll 2003 dataset\n",
    "    freqs = open('data/freqs.txt', 'r')\n",
    "\n",
    "    trigrams = trigram_prob(freqs)\n",
    "    with open('data/trigrams.pickle', 'wb') as handle:\n",
    "        pickle.dump(tri_d, handle, protocol=pickle.HIGHEST_PROTOCOL)\n",
    "    freqs.seek(0)\n",
    "\n",
    "    emissions = emission_parameter(freqs)\n",
    "    with open('data/emissions.pickle', 'wb') as handle:\n",
    "        pickle.dump(e_d, handle, protocol=pickle.HIGHEST_PROTOCOL)\n",
    "    freqs.seek(0)\n",
    "\n",
    "    wordc = word_count(freqs)\n",
    "    with open('data/wordc.pickle', 'wb') as handle:\n",
    "        pickle.dump(word_d, handle, protocol=pickle.HIGHEST_PROTOCOL)\n",
    "\n",
    "    wnet = []\n",
    "    with open(\"data/data.noun\", \"r\") as file:\n",
    "        lines = file.readlines()\n",
    "        for l in lines:\n",
    "            if l != \"\":\n",
    "                wnet.append(l.split(' ')[4])\n",
    "\n",
    "    caps = []\n",
    "    for w in wnet:\n",
    "        if w != \"\":\n",
    "            asc = ord(w[0])\n",
    "            if asc >= 65 and asc < 91:\n",
    "                caps.append(w.replace('_', ' '))\n",
    "\n",
    "    with open('data/wnet_caps.pickle', 'wb') as handle:\n",
    "        pickle.dump(caps, handle, protocol=pickle.HIGHEST_PROTOCOL)\n",
    "        \n",
    "else:\n",
    "    with open('data/trigrams.pickle', 'rb') as handle:\n",
    "        trigrams = pickle.load(handle)\n",
    "    \n",
    "    with open('data/emissions.pickle', 'rb') as handle:\n",
    "        emissions = pickle.load(handle)\n",
    "\n",
    "    with open('data/wordc.pickle', 'rb') as handle:\n",
    "        wordc = pickle.load(handle)\n",
    "\n",
    "    with open('data/wnet_caps.pickle', 'rb') as handle:\n",
    "        caps = pickle.load(handle)"
   ]
  },
  {
   "cell_type": "code",
   "execution_count": 3,
   "metadata": {},
   "outputs": [],
   "source": [
    "# read dataset\n",
    "ansar = pd.read_csv(\"../../Dataset/Ansar1.txt\", sep='\\t')\n",
    "ansar = ansar[ansar['Message'].notna()] # drop nan value rows\n",
    "messages = dict(zip(ansar['MessageID'], ansar['Message']))"
   ]
  },
  {
   "cell_type": "code",
   "execution_count": 4,
   "metadata": {},
   "outputs": [],
   "source": [
    "def processMessage(message):\n",
    "    '''\n",
    "        Takes message, returns english only tokens.\n",
    "    '''\n",
    "    printables = filter(lambda x: True if x==' ' else x in string.printable, message)\n",
    "    eng_text = \"\"\n",
    "    for ch in printables:\n",
    "        eng_text += ch\n",
    "        \n",
    "    tokens = nltk.word_tokenize(eng_text)\n",
    "    for i in range(len(tokens)):\n",
    "        if tokens[i] is '.':\n",
    "            tokens.insert(i+1, '')\n",
    "\n",
    "    if tokens and tokens[-1]:\n",
    "        tokens.append('')\n",
    "    \n",
    "    return tokens"
   ]
  },
  {
   "cell_type": "code",
   "execution_count": null,
   "metadata": {},
   "outputs": [],
   "source": [
    "# predict NER tags for Ansar (takes a long time, don't run, just use messages.rar)\n",
    "for _id , _msg in messages.items():\n",
    "    tokens = processMessage(_msg)\n",
    "    wordtags = into_sentence(tokens, trigrams, emissions, wordc, caps)\n",
    "    with open('messages/{}.txt'.format(_id), 'w+') as out:\n",
    "        for word, tag in wordtags:\n",
    "            if word:\n",
    "                out.write('{}\\t{}\\n'.format(word, tag))"
   ]
  }
 ],
 "metadata": {
  "kernelspec": {
   "display_name": "Python 3",
   "language": "python",
   "name": "python3"
  },
  "language_info": {
   "codemirror_mode": {
    "name": "ipython",
    "version": 3
   },
   "file_extension": ".py",
   "mimetype": "text/x-python",
   "name": "python",
   "nbconvert_exporter": "python",
   "pygments_lexer": "ipython3",
   "version": "3.7.3"
  }
 },
 "nbformat": 4,
 "nbformat_minor": 4
}
