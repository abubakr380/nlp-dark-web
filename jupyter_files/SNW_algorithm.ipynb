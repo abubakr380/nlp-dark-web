{
 "cells": [
  {
   "cell_type": "code",
   "execution_count": 38,
   "metadata": {},
   "outputs": [],
   "source": [
    "# imports\n",
    "import numpy as np\n",
    "import numpy.linalg as linalg\n",
    "import matplotlib.pyplot as plt\n",
    "import math\n",
    "from random import randrange\n",
    "import pandas as pd\n",
    "from datetime import datetime\n",
    "import random"
   ]
  },
  {
   "cell_type": "code",
   "execution_count": 39,
   "metadata": {},
   "outputs": [],
   "source": [
    "# Load data\n",
    "data = pd.read_csv('../Datasets/Ansar/Ansar1.txt', sep='\\t', lineterminator='\\r')\n",
    "data = data.sort_values('ThreadID')\n",
    "# data.info"
   ]
  },
  {
   "cell_type": "code",
   "execution_count": 41,
   "metadata": {},
   "outputs": [],
   "source": [
    "# Data preparation functions\n",
    "def getUsers(messages): # messages is a dataframe\n",
    "    return data[['MemberID', 'MemberName']].drop_duplicates().to_numpy()\n",
    "\n",
    "def getUserIndex(userId):\n",
    "    return np.where(allUsers == userId)\n",
    "\n",
    "def getThreads(messages): # messages is a dataframe\n",
    "    messages = messages.to_numpy()\n",
    "    threads = []\n",
    "    threadId = -1\n",
    "    for i in range(messages.shape[0]):\n",
    "        if messages[i][1] == threadId:\n",
    "            threads[len(threads) - 1].append(messages[i])\n",
    "        else:\n",
    "            threadId = messages[i][1]\n",
    "            threads.append([messages[i]])\n",
    "    threads = np.asarray([np.array(thread) for thread in threads]) # convert 3d matrix to numpy array\n",
    "    return threads"
   ]
  },
  {
   "cell_type": "code",
   "execution_count": 5,
   "metadata": {},
   "outputs": [],
   "source": [
    "# Funtions used inside the algorithm\n",
    "def getDircetReceiver(message, prevMessages): # returns [isDirect, directReceiverId, messageText]\n",
    "    if(message[5].startswith('Quote: Originally Posted by')) {\n",
    "        directReceiver = text.split(' ')[4];\n",
    "        directReceiverId\n",
    "    }\n",
    "    return [0, 30, 'sasa']\n",
    "\n",
    "def isQuestion(text):\n",
    "#     return bool(random.getrandbits(1))\n",
    "    return False\n",
    "\n",
    "def responseDelayInDays(messageDate, prevMessageDate):\n",
    "#     messageDate = datetime.strptime(messageDate, '%Y-%m-%d %H:%M:%S.%f')\n",
    "#     prevMessageDate = datetime.strptime(prevMessageDate, '%Y-%m-%d %H:%M:%S.%f')\n",
    "#     difference = messageDate - prevMessageDate\n",
    "#     return difference.days\n",
    "    return 2\n",
    "\n",
    "def weight(days, isDirect, isQuestion):\n",
    "    return 1\n"
   ]
  },
  {
   "cell_type": "code",
   "execution_count": 12,
   "metadata": {},
   "outputs": [],
   "source": [
    "# Main Algorithm: generate SNWs\n",
    "threads = getThreads(data)\n",
    "allUsers = getUsers(data)\n",
    "SNW = np.zeros((allUsers.shape[0], allUsers.shape[0]))\n",
    "\n",
    "for thread in threads:\n",
    "    for j in range(thread.shape[0]):\n",
    "        authorId = thread[j][3]\n",
    "        receiver = getDircetReceiver(thread[j], thread[:(j+1), :])\n",
    "        isQuestion = False # isQuestion(receiver[2])\n",
    "        for k in range(thread[:(j+1), :].shape[0]):\n",
    "            days = responseDelayInDays(thread[j][10], thread[k][10])\n",
    "            SNW[getUserIndex(authorId), getUserIndex(thread[k][3])] += weight(days, receiver[1], isQuestion)\n",
    "            "
   ]
  },
  {
   "cell_type": "code",
   "execution_count": 180,
   "metadata": {
    "scrolled": true
   },
   "outputs": [
    {
     "data": {
      "text/plain": [
       "array([[363.],\n",
       "       [ 26.],\n",
       "       [  0.],\n",
       "       [  0.],\n",
       "       [  0.],\n",
       "       [  0.],\n",
       "       [  4.],\n",
       "       [  0.],\n",
       "       [  0.],\n",
       "       [  0.]])"
      ]
     },
     "execution_count": 180,
     "metadata": {},
     "output_type": "execute_result"
    }
   ],
   "source": [
    "SNW[:10, :1]"
   ]
  },
  {
   "cell_type": "code",
   "execution_count": 17,
   "metadata": {},
   "outputs": [
    {
     "data": {
      "text/plain": [
       "'1071'"
      ]
     },
     "execution_count": 17,
     "metadata": {},
     "output_type": "execute_result"
    }
   ],
   "source": [
    "allUsers[10]\n"
   ]
  },
  {
   "cell_type": "code",
   "execution_count": null,
   "metadata": {},
   "outputs": [],
   "source": []
  }
 ],
 "metadata": {
  "kernelspec": {
   "display_name": "Python 3",
   "language": "python",
   "name": "python3"
  },
  "language_info": {
   "codemirror_mode": {
    "name": "ipython",
    "version": 3
   },
   "file_extension": ".py",
   "mimetype": "text/x-python",
   "name": "python",
   "nbconvert_exporter": "python",
   "pygments_lexer": "ipython3",
   "version": "3.7.3"
  }
 },
 "nbformat": 4,
 "nbformat_minor": 4
}
